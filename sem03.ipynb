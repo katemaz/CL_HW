{
 "cells": [
  {
   "cell_type": "markdown",
   "id": "012b6176-02b0-4183-8d8c-92adc4be4c5a",
   "metadata": {},
   "source": [
    "#### Задача 1. \n",
    "\n",
    "Даны четыре действительных числа: x1, y1, x2, y2. Напишите функцию distance(x1, y1, x2, y2), вычисляющая расстояние между точкой (x1, y1) и (x2, y2). Считайте четыре действительных числа и выведите результат работы этой функции."
   ]
  },
  {
   "cell_type": "code",
   "execution_count": null,
   "id": "bbd2c60a",
   "metadata": {},
   "outputs": [],
   "source": [
    "def distance(x1, y1, x2, y2):\n",
    "    return(((x2 - x1)**2)+((y2-y1)**2))**0.5\n",
    "x1 = int(input('x1'))\n",
    "y1 = int(input('y1'))\n",
    "x2 = int(input('x2'))\n",
    "y2 = int(input('y2'))\n",
    "distance_result = distance(x1, y1, x2, y2)\n",
    "print(f'Расстояние между точками равно {distance_result}')"
   ]
  },
  {
   "cell_type": "markdown",
   "id": "a2bdf0da-7671-4835-b037-aa3db0c86e1b",
   "metadata": {},
   "source": [
    "#### Задача 3. \n",
    "\n",
    "Напишите генераторную функцию, которая будет принимать строку с каким-нибудь длинным предложением и возвращать по одному слову из этого предложения в верхнем регистре. "
   ]
  },
  {
   "cell_type": "code",
   "execution_count": null,
   "id": "7fe00531",
   "metadata": {},
   "outputs": [],
   "source": [
    "sentence = input()\n",
    "words = sentence.split()\n",
    "def up_word(words):\n",
    "    for elem in words:\n",
    "        yield elem.upper()\n",
    "func = up_word(words)\n",
    "print(next(func))"
   ]
  },
  {
   "cell_type": "markdown",
   "id": "a51551eb-1d88-4d2a-a7a1-1e14dc713882",
   "metadata": {},
   "source": [
    "#### Задача 4 (\\*). \n",
    "\n",
    "Дан список кортежей, в каждом из которых по два элемента (можно считать его с клавиатуры в цикле while, вводя кортежи парами через пробел). Превратите его в два кортежа, чтобы в первом были только элементы с нулевым индексом, а во втором - с первым. То есть:\n",
    "\n",
    "    [(1, 'a'), (2, 'b')] \n",
    "    должно превратиться в \n",
    "    (1, 2), ('a', 'b')\n",
    "\n",
    "Цикл можно использовать только для считывания с клавиатуры исходного списка. "
   ]
  },
  {
   "cell_type": "code",
   "execution_count": null,
   "id": "6757a1f8",
   "metadata": {},
   "outputs": [],
   "source": [
    "#tup = tuple(input('Элементы кортежа'). split( ))\n",
    "a = tuple(input('Первый кортеж').split(','))\n",
    "b = tuple(input('Второй кортеж').split(','))\n",
    "\n",
    "ind_0 = zip(a[0],b[0])\n",
    "ind_1 = zip(a[1],b[1])\n",
    "\n",
    "zipped_ind_0 = tuple(ind_0)\n",
    "zipped_ind_1 = tuple(ind_1)\n",
    "\n",
    "print(zipped_ind_0,zipped_ind_1)\n"
   ]
  },
  {
   "cell_type": "markdown",
   "id": "57542689-78e6-4282-b831-722e81a53b8b",
   "metadata": {},
   "source": [
    "#### Задача 5. \n",
    "\n",
    "Дан список слов (можно считать его через одну строку с помощью split()). Без циклов верните список, состоящий из длин этих слов. "
   ]
  },
  {
   "cell_type": "code",
   "execution_count": null,
   "id": "bca626a6-7644-49f5-83e6-cdbb882aeffa",
   "metadata": {},
   "outputs": [],
   "source": [
    "words = input().split()\n",
    "def words_len(words):\n",
    "    length = list(map(len, words))\n",
    "    return length\n",
    "print(words_len(words))"
   ]
  },
  {
   "cell_type": "markdown",
   "id": "7dbaf89c-2f9c-49b2-ab54-9149c5452565",
   "metadata": {},
   "source": [
    "#### Задача 6. \n",
    "\n",
    "Соберите множество всех кириллических букв любым способом (либо с использованием функций ord() и char(), либо с использованием строк). "
   ]
  },
  {
   "cell_type": "code",
   "execution_count": null,
   "id": "bb4a40ea-e105-4d0c-b28a-cb0ad1434dca",
   "metadata": {},
   "outputs": [],
   "source": [
    "cyrillic_upper = {chr(i) for i in range(0x0410, 0x042F)}\n",
    "cyrillic_lower = {chr(i) for i in range(0x0430, 0x044F)}\n",
    "print(cyrillic_upper)\n",
    "print(cyrillic_lower)"
   ]
  },
  {
   "cell_type": "markdown",
   "id": "1ba73d33-e4bd-498f-9866-66bbb068d324",
   "metadata": {},
   "source": [
    "#### Задача 8. \n",
    "\n",
    "Даны два списка чисел. Найдите все числа, которые входят как в первый, так и во второй список, и выведите их в порядке возрастания."
   ]
  },
  {
   "cell_type": "code",
   "execution_count": null,
   "id": "86aa879c-1d08-4f46-9413-6905c03157ff",
   "metadata": {},
   "outputs": [],
   "source": [
    "a = {1, 2, 3, 4, 5}\n",
    "b = {1, 2, 3, 4, 5, 6, 7, 8, 9}\n",
    "print(sorted(a&b))\n"
   ]
  },
  {
   "cell_type": "markdown",
   "id": "f60e2401-7d51-49fb-bb28-8a231f5c6987",
   "metadata": {},
   "source": [
    "#### Задача 9. \n",
    "\n",
    "Напишите функцию lexdiv(), которая считает лексическое разнообразие в тексте. Лексическое разноообразие - это количество уникальных слов, поделенное на количество всех слов в тексте. Посчитайте лексическое разнообразие для любого англоязычного и русскоязычного текста примерно одинаковой длины.\n",
    "\n",
    "Текст можно задать прямо в коде с помощью тройных кавычек. "
   ]
  },
  {
   "cell_type": "code",
   "execution_count": null,
   "id": "f5b7a998-d3fd-4f2d-910e-9d4165d01f98",
   "metadata": {},
   "outputs": [],
   "source": [
    "#rus\n",
    "text = '''В осеннем лесу листья ярко желтые и красные, создавая красоту вокруг. Ветер играет с листьями, нежно колыша их на ветках. \n",
    "Листья шуршат под ногами, когда люди гуляют по тропинкам. Вдалеке слышен звук птиц, которые собираются в стаи, готовясь к путешествию. \n",
    "Осенний лес полон жизни и уюта, напоминая о приближающейся зиме. '''\n",
    "def lexdiv(text):\n",
    "    l_d = (len(set(text.split()))) / (len(text.split()))\n",
    "    return l_d\n",
    "lex_div = lexdiv(text)\n",
    "print(lex_div)"
   ]
  },
  {
   "cell_type": "code",
   "execution_count": null,
   "id": "8fdcebd0",
   "metadata": {},
   "outputs": [],
   "source": [
    "#eng\n",
    "text = '''The bustling city streets were alive with energy as people hurried to their destinations. Street vendors called out, \n",
    "offering delicious snacks that filled the air with enticing aromas. In a nearby park, a group of friends gathered for a picnic, laughing and sharing stories. \n",
    "The sound of distant music floated through the air, inviting everyone to join the celebration. As the sun dipped below the skyline, \n",
    "the city transformed into a dazzling display of lights, each one telling its own story. '''\n",
    "def lexdiv(text):\n",
    "    l_d = (len(set(text.split()))) / (len(text.split()))\n",
    "    return l_d\n",
    "lex_div = lexdiv(text)\n",
    "print(lex_div)"
   ]
  },
  {
   "cell_type": "markdown",
   "id": "778ba4ca-34cc-40bb-98a4-8c4168b0d02e",
   "metadata": {},
   "source": [
    "#### Задача 10. \n",
    "\n",
    "Напишите функцию printmatrix(), которая будет красиво выводить матрицу в печать. "
   ]
  },
  {
   "cell_type": "code",
   "execution_count": null,
   "id": "9287bd95-72b6-4b39-9dd7-d21179d8fd87",
   "metadata": {},
   "outputs": [],
   "source": [
    "a = int(input('Количество столбцов: '))\n",
    "b = int(input('Количество строк: '))\n",
    "\n",
    "def printmatrix(a,b):\n",
    "    print = [[n for n in range(a)] for m in range (b)]\n",
    "    return print\n",
    "printmatrix(a,b)"
   ]
  },
  {
   "cell_type": "markdown",
   "id": "920168d6-c19e-4f57-b15e-399d8644ca7d",
   "metadata": {},
   "source": [
    "#### Задача 11. \n",
    "\n",
    "Напишите функцию generate_unitary(), которая будет генерировать единичную матрицу размера n. Единичная матрица - такая, у которой по диагонали стоят единички, а все остальные числа - нолики, например:\n",
    "\n",
    "    1 0 0 0\n",
    "    0 1 0 0\n",
    "    0 0 1 0\n",
    "    0 0 0 1"
   ]
  },
  {
   "cell_type": "code",
   "execution_count": null,
   "id": "f44be14c-b60a-4f10-a902-069effa4cef6",
   "metadata": {},
   "outputs": [],
   "source": [
    "n = int(input())\n",
    "\n",
    "def generate_unitary(n):\n",
    "    gen_uni = [[1 if i == j else 0 for j in range(n)] for i in range(n)]  \n",
    "    return gen_uni\n",
    "generate_unitary(n)"
   ]
  }
 ],
 "metadata": {
  "kernelspec": {
   "display_name": "Python 3 (ipykernel)",
   "language": "python",
   "name": "python3"
  },
  "language_info": {
   "codemirror_mode": {
    "name": "ipython",
    "version": 3
   },
   "file_extension": ".py",
   "mimetype": "text/x-python",
   "name": "python",
   "nbconvert_exporter": "python",
   "pygments_lexer": "ipython3",
   "version": "3.11.9"
  }
 },
 "nbformat": 4,
 "nbformat_minor": 5
}
