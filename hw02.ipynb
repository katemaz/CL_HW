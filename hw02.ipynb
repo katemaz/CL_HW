{
 "cells": [
  {
   "cell_type": "markdown",
   "id": "97a792f9-e32d-4409-8db0-5e6cefd7d10a",
   "metadata": {},
   "source": [
    "## Задание 1.\n",
    "\n",
    "Вводится список чисел через пробел. Поменяйте в этом списке самое маленькое и самое большое число местами, н-р, список 4 2 6 3 7 5 должен превратиться в 4 7 6 3 2 5"
   ]
  },
  {
   "cell_type": "code",
   "execution_count": null,
   "id": "777183e0",
   "metadata": {},
   "outputs": [],
   "source": [
    "numbers = input('Список чисел через пробел').split()\n",
    "max_ind = numbers.index(max(numbers))\n",
    "min_ind = numbers.index(min(numbers))\n",
    "numbers[max_ind], numbers[min_ind] = numbers[min_ind], numbers [max_ind]\n",
    "print(numbers)"
   ]
  },
  {
   "cell_type": "markdown",
   "id": "f6cf0459-4d88-4fcd-8ef7-d505e5503f3d",
   "metadata": {},
   "source": [
    "## Задание 2. \n",
    "\n",
    "Вводится список (чего угодно, как угодно). Нужно все элементы поменять местами, н-р, список вида 1 2 3 4 5 превращается в 2 1 4 3 5. "
   ]
  },
  {
   "cell_type": "code",
   "execution_count": null,
   "id": "d6ad43c0",
   "metadata": {},
   "outputs": [],
   "source": [
    "def swap(numbers):\n",
    "    numbers[::2], numbers[1::2] = numbers[1::2], numbers[::2] \n",
    "    return numbers\n",
    "list = [1, 2, 3, 4, 5, 6]\n",
    "result = swap(list)\n",
    "print(result)"
   ]
  },
  {
   "cell_type": "markdown",
   "id": "9ba60057-d600-4878-b05d-2adada21b4bb",
   "metadata": {},
   "source": [
    "## Задание 3. \n",
    "\n",
    "Петя перешёл в другую школу. На уроке физкультуры ему понадобилось определить своё место в строю. Помогите ему это сделать.\n",
    "\n",
    "Программа получает на вход невозрастающую последовательность натуральных чисел, означающих рост каждого человека в строю. После этого вводится число X – рост Пети. Все числа во входных данных натуральные и не превышают 200.\n",
    "\n",
    "Выведите номер, под которым Петя должен встать в строй. Если в строю есть люди с одинаковым ростом, таким же, как у Пети, то он должен встать после них."
   ]
  },
  {
   "cell_type": "code",
   "execution_count": null,
   "id": "8fde5243",
   "metadata": {},
   "outputs": [],
   "source": [
    "petya_height = int(input('Рост Пети: '))\n",
    "petya_position = 1\n",
    "heights = input('Рост людей в строю: ').split()\n",
    "heights_2 = map(int, (heights))\n",
    "for elem in heights_2:\n",
    "    if elem <= petya_height:\n",
    "        petya_position += 1\n",
    "print(f'Номер Пети в строю: {petya_position}')"
   ]
  },
  {
   "cell_type": "markdown",
   "id": "9451e6ee-1ed7-4d33-a6f3-baa2fcd72324",
   "metadata": {},
   "source": [
    "## Задание 5.\n",
    "\n",
    "Дан список. Удалите из списка все повторы, то есть, оставьте в списке каждый элемент только в одном экземпляре (остаться должно только первое появление элемента в списке). Программа не должна использовать дополнительную память: это означает, что нельзя пользоваться множествами и генераторами, можно только производить изменения в самом списке. "
   ]
  },
  {
   "cell_type": "code",
   "execution_count": null,
   "id": "25111a42",
   "metadata": {},
   "outputs": [],
   "source": [
    "n = [1, 3, 2, 1, 4, 2, 3, 1, 4, 2, 1]\n",
    "for i in range((n))[::-1]:\n",
    "    if n.count(n[i]) > 1:\n",
    "        del n[i]\n",
    "print(n)"
   ]
  },
  {
   "cell_type": "markdown",
   "id": "30fa8c16-a47f-4175-8d9e-bdcc988f27aa",
   "metadata": {},
   "source": [
    "## Задание 6.\n",
    "\n",
    "На вход программе даётся число N и список. Удалите из списка все элементы, которые встречаются в нём ровно N раз. Программа не должна использовать дополнительную память."
   ]
  },
  {
   "cell_type": "code",
   "execution_count": null,
   "id": "8f241736",
   "metadata": {},
   "outputs": [],
   "source": [
    "n = int(input('Число повторений'))\n",
    "numbers = input('Список чисел').split()\n",
    "for i in numbers:\n",
    "    if numbers.count(i) == n:\n",
    "        while i in numbers:\n",
    "            numbers.remove(i)\n",
    "print(numbers)"
   ]
  },
  {
   "cell_type": "markdown",
   "id": "caece3be-f46a-4db2-af15-5ca77a74fc00",
   "metadata": {},
   "source": [
    "## Задание 10. \n",
    "\n",
    "Напишите функцию, которая принимает строчку и возвращает порядковые номера всех букв в этой строчке в виде списка (напоминаю, что порядковый номер буквы в юникоде возвращает ord('c')). "
   ]
  },
  {
   "cell_type": "code",
   "execution_count": null,
   "id": "454c5e2a",
   "metadata": {},
   "outputs": [],
   "source": [
    "word = input()\n",
    "def unicode(word):\n",
    "    for elem in word:\n",
    "        print((ord(elem)))\n",
    "unicode(word)"
   ]
  }
 ],
 "metadata": {
  "kernelspec": {
   "display_name": "Python 3 (ipykernel)",
   "language": "python",
   "name": "python3"
  },
  "language_info": {
   "codemirror_mode": {
    "name": "ipython",
    "version": 3
   },
   "file_extension": ".py",
   "mimetype": "text/x-python",
   "name": "python",
   "nbconvert_exporter": "python",
   "pygments_lexer": "ipython3",
   "version": "3.11.9"
  }
 },
 "nbformat": 4,
 "nbformat_minor": 5
}
