{
 "cells": [
  {
   "cell_type": "markdown",
   "id": "6bad6b38-eca0-4cfc-ac6a-2723a3cbb50a",
   "metadata": {},
   "source": [
    "#### Задача 1. \n",
    "\n",
    "Ученики одной школы все знают хотя бы по одному языку. Программа получает число школьников, а потом в цикле for собирает сведения о их языках, н-р:\n",
    "\n",
    "    2\n",
    "    English Bulgarian\n",
    "    English Romanian\n",
    "    \n",
    "Нужно узнать, какие языки знает хотя бы один школьник и какие языки знают все школьники."
   ]
  },
  {
   "cell_type": "code",
   "execution_count": null,
   "id": "62dd9c3d",
   "metadata": {},
   "outputs": [],
   "source": [
    "students = int(input('Число школьников'))\n",
    "languages = [] #языки, которые знают школьники\n",
    "for i in range(students):\n",
    "    language = input('Введите языки').split()\n",
    "    languages.extend(language)\n",
    "unique_lang = set(languages) #языки, которые знает хотя бы один школьник\n",
    "popular_lang = [i for i in unique_lang if languages.count(i) == students] #языки, которые знают все школьники\n",
    "\n",
    "print(f'Количество школьников: {students}. Какие языки знают все школьники: {popular_lang}. Какие языки знает хотя бы один школьник: {unique_lang}')"
   ]
  },
  {
   "cell_type": "markdown",
   "id": "359818d1-46c4-43c1-b9c6-719cd83c06a7",
   "metadata": {},
   "source": [
    "#### Задача 2. \n",
    "\n",
    "Напишите функцию, которая будет принимать строку, в которой содержится любой текст (положим, русскоязычный), и возвращать список, содержащий только слова (для удаления пунктуации можно воспользоваться punctuation из модуля string, если хочется). Если умеете пользоваться регулярками - можно использовать регулярки. \n",
    "\n",
    "Посчитайте частотный список слов для текста в этой строке. "
   ]
  },
  {
   "cell_type": "code",
   "execution_count": null,
   "id": "72b59a93",
   "metadata": {},
   "outputs": [],
   "source": [
    "import string\n",
    "table = str.maketrans('','',string.punctuation)\n",
    "text = input('Введите текст')\n",
    "\n",
    "def punct(text):\n",
    "    for i in text:\n",
    "        text_2 = text.translate(table)\n",
    "        final_text = text_2.lower()\n",
    "    return final_text\n",
    "new_text = punct(text)\n",
    "print(f'Список слов: {new_text}')\n",
    "\n",
    "str_text = str(new_text).split()\n",
    "def freq(str_text):\n",
    "    count = {}\n",
    "    for word in str_text:\n",
    "        if word in count:\n",
    "            count[word] += 1\n",
    "        else:\n",
    "            count[word] = 1\n",
    "    return count\n",
    "word_count = freq(str_text)\n",
    "print(f'Частотный список слов: {word_count}')"
   ]
  },
  {
   "cell_type": "markdown",
   "id": "552bc43b-804b-41d3-a482-35ad54f36e06",
   "metadata": {},
   "source": [
    "#### Задача 3. \n",
    "\n",
    "Положим, у нас есть список со вложенными списками (глубина вложенности может быть какая угодно: это может быть список списков списков...). Напишите функцию, которая будет рекурсивно обходить все элементы в этих списках и посчитает, сколько всего встретилось уникальных элементов. Считаем, что эти элементы - целые числа (вам понадобится проверять type(x) == int). "
   ]
  },
  {
   "cell_type": "code",
   "execution_count": null,
   "id": "e55b560f",
   "metadata": {},
   "outputs": [],
   "source": [
    "numbers = [[5, 4, 3, 2, 1], [6, 6, 7, 8, 8, 9]]\n",
    "numbers_list = [elem for list in numbers for elem in list]\n",
    "def unique(numbers_list):\n",
    "    return len(set(numbers_list))\n",
    "unique_elems = unique(numbers_list)\n",
    "print(f'Количество уникальных элементов: {unique_elems}')"
   ]
  },
  {
   "cell_type": "markdown",
   "id": "be46c202-8887-4cdb-a6c2-acd40c86403f",
   "metadata": {},
   "source": [
    "#### Задача 4. \n",
    "\n",
    "Напишите функцию для сложения матриц."
   ]
  },
  {
   "cell_type": "code",
   "execution_count": null,
   "id": "42eccf52",
   "metadata": {},
   "outputs": [],
   "source": [
    "matrix_1 = [[1, 1, 1], [2, 2, 2], [3, 3, 3]]\n",
    "matrix_2 = [[9, 9, 9], [8, 8, 8], [7, 7, 7]]\n",
    "result = [[0, 0, 0], [0, 0, 0], [0, 0, 0]]\n",
    "\n",
    "def addition():\n",
    "    for n in range(len(matrix_1)):\n",
    "        for m in range(len(matrix_2[0])):\n",
    "            result[n][m] = matrix_1[n][m] + matrix_2[n][m] \n",
    "addition()\n",
    "\n",
    "print(*result,sep='\\n')"
   ]
  },
  {
   "cell_type": "markdown",
   "id": "10fcf684-2ee1-4342-9c0a-1c959a473320",
   "metadata": {},
   "source": [
    "#### Задача 5. \n",
    "\n",
    "Напишите функцию для умножения матриц."
   ]
  },
  {
   "cell_type": "code",
   "execution_count": null,
   "id": "497df8f2",
   "metadata": {},
   "outputs": [],
   "source": [
    "from random import randrange\n",
    "\n",
    "m_1 = [[n for n in range(5)] for m in range (5)]\n",
    "m_2 = [[randrange (2,3) for n in range(5)] for m in range (5)]\n",
    "result = [[randrange (0,1) for n in range (5)] for m in range (5)]\n",
    "\n",
    "def multi():\n",
    "    for n in range(len(m_1)):\n",
    "        for m in range(len(m_2[0])):\n",
    "            result[n][m] = m_1[n][m] * m_2[n][m]\n",
    "multi()\n",
    "\n",
    "print(*result,sep='\\n')"
   ]
  },
  {
   "cell_type": "markdown",
   "id": "1f145040-6a4e-44e5-a0f0-99d76a8f5413",
   "metadata": {},
   "source": [
    "#### Задача 6. \n",
    "\n",
    "Напишите функцию, которая генерирует [матрицу сдвига](https://ru.wikipedia.org/wiki/%D0%9C%D0%B0%D1%82%D1%80%D0%B8%D1%86%D0%B0_%D1%81%D0%B4%D0%B2%D0%B8%D0%B3%D0%B0). У функции должно быть два параметра: n (размер матрицы) и bias (на сколько столбцов сдвигать)."
   ]
  },
  {
   "cell_type": "code",
   "execution_count": null,
   "id": "3bdb9057",
   "metadata": {},
   "outputs": [],
   "source": [
    "#верхне-сдвиговая матрица\n",
    "\n",
    "from random import randrange\n",
    "matrix = [[randrange (0,2) for n in range (5)] for m in range (5)]\n",
    "def swing(matrix):\n",
    "    matrix_swing = [[1 if n == m + 1 else 0 for n in range(5)] for m in range(5)]    \n",
    "    return matrix_swing\n",
    "swing(matrix)"
   ]
  },
  {
   "cell_type": "code",
   "execution_count": null,
   "id": "67128dab",
   "metadata": {},
   "outputs": [],
   "source": [
    "#нижне-сдвиговая матрица\n",
    "\n",
    "from random import randrange\n",
    "matrix = [[randrange (0,2) for n in range (5)] for m in range (5)]\n",
    "def swing(matrix):\n",
    "    matrix_swing = [[1 if n == m - 1 else 0 for n in range(5)] for m in range(5)]    \n",
    "    return matrix_swing\n",
    "swing(matrix)"
   ]
  },
  {
   "cell_type": "markdown",
   "id": "bbe7efcb-ae28-40ad-935e-b7f231207779",
   "metadata": {},
   "source": [
    "#### Задача 7. \n",
    "\n",
    "Напишите функцию transpose(m), которая будет транспонировать матрицу."
   ]
  },
  {
   "cell_type": "code",
   "execution_count": null,
   "id": "445846ac-fe77-40f3-92cc-d3e5f719a47e",
   "metadata": {},
   "outputs": [],
   "source": [
    "matrix = [[n for n in range(5)] for m in range(5)]\n",
    "print(*matrix,sep='\\n')\n",
    "def transpose(matrix):\n",
    "    matrix_trans = [[matrix[m][n] for m in range(len(matrix))] for n in range(len(matrix[0]))]\n",
    "    return matrix_trans\n",
    "transpose(matrix)"
   ]
  }
 ],
 "metadata": {
  "kernelspec": {
   "display_name": "Python 3 (ipykernel)",
   "language": "python",
   "name": "python3"
  },
  "language_info": {
   "codemirror_mode": {
    "name": "ipython",
    "version": 3
   },
   "file_extension": ".py",
   "mimetype": "text/x-python",
   "name": "python",
   "nbconvert_exporter": "python",
   "pygments_lexer": "ipython3",
   "version": "3.11.9"
  }
 },
 "nbformat": 4,
 "nbformat_minor": 5
}
