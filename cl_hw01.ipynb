{
 "cells": [
  {
   "cell_type": "code",
   "execution_count": 2,
   "metadata": {},
   "outputs": [
    {
     "name": "stdout",
     "output_type": "stream",
     "text": [
      "6\n"
     ]
    }
   ],
   "source": [
    "#1\n",
    "number = input()\n",
    "result = list(map(int, number))\n",
    "print(sum(result))"
   ]
  },
  {
   "cell_type": "code",
   "execution_count": 18,
   "metadata": {},
   "outputs": [
    {
     "name": "stdout",
     "output_type": "stream",
     "text": [
      "['110', '4597']\n"
     ]
    }
   ],
   "source": [
    "#2 \n",
    "p = int(input('Процент: ')) #17\n",
    "x = int(input('Рубли: ')) #94\n",
    "y = int(input('Копейки: ')) #41\n",
    "k = (100 * x) + y #сумма в копейках\n",
    "r = (k * p) / 100 #прирост\n",
    "in_a_year = str((k + r) / 100) #сумма через год в рублях\n",
    "print(in_a_year.split('.'))"
   ]
  },
  {
   "cell_type": "code",
   "execution_count": 81,
   "metadata": {},
   "outputs": [
    {
     "name": "stdout",
     "output_type": "stream",
     "text": [
      "Зашифрованное сообщение: превит кок дило\n"
     ]
    }
   ],
   "source": [
    "#3 с помощью цикла\n",
    "message = input()\n",
    "secret_message = ''\n",
    "for symbol in message:\n",
    "    if symbol == 'а':\n",
    "        secret_symbol = 'о'\n",
    "    elif symbol =='е':\n",
    "        secret_symbol = 'и'\n",
    "    elif symbol == 'о':\n",
    "        secret_symbol = 'а'\n",
    "    elif symbol == 'и':\n",
    "        secret_symbol = 'е'\n",
    "    else:\n",
    "        secret_symbol = symbol\n",
    "    secret_message += secret_symbol\n",
    "print(f'Зашифрованное сообщение: {secret_message}')"
   ]
  },
  {
   "cell_type": "code",
   "execution_count": 52,
   "metadata": {},
   "outputs": [
    {
     "name": "stdout",
     "output_type": "stream",
     "text": [
      "Введите делимое: 10, Введите делитель: 0, Ошибка: Деление на ноль невозможно!\n",
      "Введите делимое: выход Программа завершена\n"
     ]
    }
   ],
   "source": [
    "#5\n",
    "while True:\n",
    "    try:\n",
    "        dividend = input('Введите делимое: ') #делимое\n",
    "        if dividend == 'выход':\n",
    "            print(f'Введите делимое: {dividend}', 'Программа завершена.')\n",
    "            break\n",
    "        divisor = input('Введите делитель') #делитель\n",
    "        result = int(dividend) / int(divisor)\n",
    "        print(f'Введите делимое: {dividend}, Введите делитель: {divisor}, Результат: {result}')\n",
    "    except ZeroDivisionError:\n",
    "        print(f'Введите делимое: {dividend}, Введите делитель: {divisor}, Ошибка: Деление на ноль невозможно!') \n",
    "    except ValueError:\n",
    "        print(f'Введите делимое: {dividend}, Введите делитель: {divisor}, Ошибка: Введите числовое значение!')"
   ]
  },
  {
   "cell_type": "code",
   "execution_count": 17,
   "metadata": {},
   "outputs": [
    {
     "data": {
      "text/plain": [
       "2"
      ]
     },
     "execution_count": 17,
     "metadata": {},
     "output_type": "execute_result"
    }
   ],
   "source": [
    "#6\n",
    "number = int(input())\n",
    "def fibonacci(number):\n",
    "    if number == 1:\n",
    "        return 0\n",
    "    if number == 2:\n",
    "        return 1\n",
    "    if number == 3:\n",
    "        return 1\n",
    "    if number >= 4:\n",
    "        return fibonacci(number - 2) + fibonacci(number - 1)\n",
    "fibonacci(number)"
   ]
  },
  {
   "cell_type": "code",
   "execution_count": 6,
   "metadata": {},
   "outputs": [
    {
     "name": "stdout",
     "output_type": "stream",
     "text": [
      "0:2:3\n"
     ]
    }
   ],
   "source": [
    "#7\n",
    "seconds = int(input())\n",
    "hours = seconds // 3600\n",
    "minutes = (seconds%3600) // 60\n",
    "seconds_2 = seconds % 60\n",
    "print(f'{hours}:{minutes}:{seconds_2}')"
   ]
  },
  {
   "cell_type": "code",
   "execution_count": 53,
   "metadata": {},
   "outputs": [
    {
     "name": "stdout",
     "output_type": "stream",
     "text": [
      "####\n",
      "....\n",
      "####\n"
     ]
    }
   ],
   "source": [
    "#4\n",
    "number = int(input())\n",
    "for i in range(number):\n",
    "    if i % 2 == 0:\n",
    "        print('####')\n",
    "    else:\n",
    "        print(\"....\")\n"
   ]
  }
 ],
 "metadata": {
  "kernelspec": {
   "display_name": "Python 3",
   "language": "python",
   "name": "python3"
  },
  "language_info": {
   "codemirror_mode": {
    "name": "ipython",
    "version": 3
   },
   "file_extension": ".py",
   "mimetype": "text/x-python",
   "name": "python",
   "nbconvert_exporter": "python",
   "pygments_lexer": "ipython3",
   "version": "3.11.9"
  }
 },
 "nbformat": 4,
 "nbformat_minor": 2
}
